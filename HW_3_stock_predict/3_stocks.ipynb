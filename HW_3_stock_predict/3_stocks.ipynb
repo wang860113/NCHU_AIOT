{
 "cells": [
  {
   "cell_type": "markdown",
   "metadata": {},
   "source": [
    "# L6 : Linear Regression (Follow CRISP-DM)\n",
    "<img src=\"https://www.stellarconsulting.co.nz/wp-content/uploads/2017/08/CRISP-DM_Process_1000x600.jpg\" >"
   ]
  },
  {
   "cell_type": "markdown",
   "metadata": {},
   "source": [
    "## Step 1: Load Data "
   ]
  },
  {
   "cell_type": "code",
   "execution_count": 104,
   "metadata": {},
   "outputs": [],
   "source": [
    "import pandas as pd\n",
    "import matplotlib.pyplot as plt\n",
    "%matplotlib inline\n",
    "\n",
    "name=\"2330\"\n",
    "data = pd.read_csv(name+\".csv\")  #1102 2454 2330\n",
    "# plt.scatter(data['y'],data['x1'])\n",
    "data.isnull().any()\n",
    "data = data.fillna(method='ffill')\n",
    "# plt.scatter(data['x'],data['y']) \n",
    "\n"
   ]
  },
  {
   "cell_type": "markdown",
   "metadata": {},
   "source": [
    "## Step 2: Prepare X, Y"
   ]
  },
  {
   "cell_type": "code",
   "execution_count": 105,
   "metadata": {},
   "outputs": [
    {
     "name": "stdout",
     "output_type": "stream",
     "text": [
      "(240, 4)\n",
      "(240, 1)\n"
     ]
    }
   ],
   "source": [
    "X=data[['x1','x2','x3','x4']].values.reshape(-1,4)\n",
    "Y=data['y'].values.reshape(-1,1)\n",
    "print(X.shape)\n",
    "print(Y.shape)\n"
   ]
  },
  {
   "cell_type": "markdown",
   "metadata": {},
   "source": [
    "## Step 3: Model Training"
   ]
  },
  {
   "cell_type": "code",
   "execution_count": 106,
   "metadata": {},
   "outputs": [
    {
     "data": {
      "text/plain": [
       "LinearRegression(copy_X=True, fit_intercept=True, n_jobs=None, normalize=False)"
      ]
     },
     "execution_count": 106,
     "metadata": {},
     "output_type": "execute_result"
    }
   ],
   "source": [
    "from sklearn.linear_model import LinearRegression as LR \n",
    "model = LR()\n",
    "model.fit(X,Y)\n",
    "# a= float(model.coef_)\n",
    "# b=float(model.intercept_)\n",
    "# print(a,b)\n",
    "# print(type(a),type(b))"
   ]
  },
  {
   "cell_type": "markdown",
   "metadata": {},
   "source": [
    "## Step 4: Predict\n",
    "*  y =ax+b\n",
    "    * a= model.coef_\n",
    "    * b=model.intercept_\n",
    "* print(a,b)"
   ]
  },
  {
   "cell_type": "code",
   "execution_count": 107,
   "metadata": {},
   "outputs": [
    {
     "name": "stdout",
     "output_type": "stream",
     "text": [
      "(1000, 1) (4000, 1)\n"
     ]
    }
   ],
   "source": [
    "preY=model.predict(X)\n",
    "a = model.coef_\n",
    "b= model.intercept_\n",
    "import numpy as np\n",
    "_X =np.array([i for i in range(1000)]).reshape(-1,1)\n",
    "_Y =np.array(a*_X+b).reshape(-1,1)\n",
    "\n",
    "print(_X.shape,_Y.shape)\n",
    "\n",
    "\n"
   ]
  },
  {
   "cell_type": "markdown",
   "metadata": {},
   "source": [
    "## Step 5: Model Evaluation"
   ]
  },
  {
   "cell_type": "code",
   "execution_count": 108,
   "metadata": {},
   "outputs": [
    {
     "name": "stdout",
     "output_type": "stream",
     "text": [
      "r2= 0.9779011702312944\n",
      "mse= 24.453136027621966\n"
     ]
    }
   ],
   "source": [
    "from sklearn.metrics import mean_squared_error as MSE\n",
    "from sklearn.metrics import  r2_score as R2\n",
    "\n",
    "print('r2=',R2(preY,Y)) \n",
    "print('mse=',MSE(preY,Y)) \n"
   ]
  },
  {
   "cell_type": "markdown",
   "metadata": {},
   "source": [
    "## Step 6: Deploy "
   ]
  },
  {
   "cell_type": "code",
   "execution_count": 118,
   "metadata": {},
   "outputs": [],
   "source": [
    "test = pd.read_csv(name+\"_test.csv\")   #1102_test 2454_test 2330_test \n",
    "testX=test[['x1','x2','x3','x4']].values.reshape(-1,4)\n",
    "testY=model.predict(testX)\n",
    "test['y']=testY\n",
    "test.to_csv(name+\"_test.csv\",index=False,mode='w')\n"
   ]
  },
  {
   "cell_type": "code",
   "execution_count": 127,
   "metadata": {},
   "outputs": [
    {
     "data": {
      "image/png": "[encoded data removed]",
      "text/plain": [
       "<Figure size 432x288 with 1 Axes>"
      ]
     },
     "metadata": {
      "needs_background": "light"
     },
     "output_type": "display_data"
    }
   ],
   "source": [
    "# show圖\n",
    "n1='2330'  #'1102' 2454' '2330'\n",
    "\n",
    "\n",
    "datan1=pd.read_csv(n1+\"_test.csv\")  \n",
    "datano=pd.read_csv(n1+\".csv\")  \n",
    "plt.xlim(0, 10)\n",
    "plt.ylabel(\"price\")\n",
    "plt.xlabel(\"day\")\n",
    "plt.plot(datano['y'].head(10),'--',datan1['y'],'--')\n",
    "plt.show()\n",
    "\n"
   ]
  },
  {
   "cell_type": "code",
   "execution_count": null,
   "metadata": {},
   "outputs": [],
   "source": []
  },
  {
   "cell_type": "code",
   "execution_count": null,
   "metadata": {},
   "outputs": [],
   "source": []
  }
 ],
 "metadata": {
  "kernelspec": {
   "display_name": "Python 3",
   "language": "python",
   "name": "python3"
  },
  "language_info": {
   "codemirror_mode": {
    "name": "ipython",
    "version": 3
   },
   "file_extension": ".py",
   "mimetype": "text/x-python",
   "name": "python",
   "nbconvert_exporter": "python",
   "pygments_lexer": "ipython3",
   "version": "3.7.4"
  }
 },
 "nbformat": 4,
 "nbformat_minor": 2
}
